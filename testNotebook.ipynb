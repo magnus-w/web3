{
  "nbformat": 4,
  "nbformat_minor": 0,
  "metadata": {
    "colab": {
      "name": "testNotebook.ipynb",
      "provenance": [],
      "toc_visible": true,
      "authorship_tag": "ABX9TyMsqBW5ZbaeUZ4mfykqtmgj",
      "include_colab_link": true
    },
    "kernelspec": {
      "name": "python3",
      "display_name": "Python 3"
    },
    "language_info": {
      "name": "python"
    }
  },
  "cells": [
    {
      "cell_type": "markdown",
      "metadata": {
        "id": "view-in-github",
        "colab_type": "text"
      },
      "source": [
        "<a href=\"https://colab.research.google.com/github/magnus-w/web3/blob/main/testNotebook.ipynb\" target=\"_parent\"><img src=\"https://colab.research.google.com/assets/colab-badge.svg\" alt=\"Open In Colab\"/></a>"
      ]
    },
    {
      "cell_type": "code",
      "execution_count": null,
      "metadata": {
        "id": "5bTMHtga-hQJ"
      },
      "outputs": [],
      "source": [
        ""
      ]
    },
    {
      "cell_type": "markdown",
      "source": [
        "# How is the text rendered? \n",
        "\n",
        "> OK, it's GitHub Markdown, anyway...\n",
        "\n",
        "## How to use these collab notebooks?\n",
        "\n",
        "Is there a use case that's not codeish? How do we create sections, slash new pages in the notebook? \n",
        "\n"
      ],
      "metadata": {
        "id": "Sxta77BP-nCw"
      }
    },
    {
      "cell_type": "markdown",
      "source": [
        "# New Section\n",
        "\n",
        "How do the sections relate to each other? Like pages or is it just one, long document? "
      ],
      "metadata": {
        "id": "Y5jokW1rAXoC"
      }
    }
  ]
}